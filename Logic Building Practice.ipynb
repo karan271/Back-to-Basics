{
 "cells": [
  {
   "cell_type": "markdown",
   "id": "da163526-3529-4de4-b424-91de5e78175d",
   "metadata": {},
   "source": [
    "## Pattern Practice for logic Building for DSA"
   ]
  },
  {
   "cell_type": "markdown",
   "id": "a1304dbc-0741-420a-8bc2-f752ab948ecb",
   "metadata": {},
   "source": [
    "We are going to use for loops for practice. In Python, range is the best function for implementing loops.\n",
    "\n",
    "``` python\n",
    "range(start, stop, step)\n",
    "\n",
    "```"
   ]
  },
  {
   "cell_type": "code",
   "execution_count": 1,
   "id": "ec97631f-6855-40de-91ae-6e73a487e260",
   "metadata": {},
   "outputs": [
    {
     "name": "stdout",
     "output_type": "stream",
     "text": [
      "* * * * * \n",
      "* * * * * \n",
      "* * * * * \n",
      "* * * * * \n"
     ]
    }
   ],
   "source": [
    "# Pattern 1\n",
    "\n",
    "for i in range(1,5):\n",
    "    for j in range(1,6):\n",
    "        print(\"* \", end=\"\")\n",
    "    print()"
   ]
  },
  {
   "cell_type": "code",
   "execution_count": 2,
   "id": "7a56b453-7495-4cc5-ae0f-737a58826127",
   "metadata": {},
   "outputs": [
    {
     "name": "stdin",
     "output_type": "stream",
     "text": [
      "Input the number of rows you want 5\n"
     ]
    },
    {
     "name": "stdout",
     "output_type": "stream",
     "text": [
      "x \n",
      "x x \n",
      "x x x \n",
      "x x x x \n",
      "x x x x x \n"
     ]
    }
   ],
   "source": [
    "# Pattern 2\n",
    "\n",
    "n = int(input(\"Input the number of rows you want\"))\n",
    "\n",
    "for i in range(1,n+1):\n",
    "    for j in range(1, i+1):\n",
    "        print(\"x \", end=\"\")\n",
    "    print()"
   ]
  },
  {
   "cell_type": "code",
   "execution_count": 3,
   "id": "46181ed7-7578-4317-80ce-c76c0dd25ebe",
   "metadata": {},
   "outputs": [
    {
     "name": "stdin",
     "output_type": "stream",
     "text": [
      "Input the number of rows you want 6\n"
     ]
    },
    {
     "name": "stdout",
     "output_type": "stream",
     "text": [
      "1\n",
      "12\n",
      "123\n",
      "1234\n",
      "12345\n",
      "123456\n"
     ]
    }
   ],
   "source": [
    "# Pattern 3\n",
    "\n",
    "n = int(input(\"Input the number of rows you want\"))\n",
    "\n",
    "for i in range(1, n+1):\n",
    "    for j in range(1, i+1):\n",
    "        print(j, end=\"\")\n",
    "    print()"
   ]
  },
  {
   "cell_type": "code",
   "execution_count": 4,
   "id": "deb1e36b-de2e-4d64-82d0-199f63fd5bd8",
   "metadata": {},
   "outputs": [
    {
     "name": "stdin",
     "output_type": "stream",
     "text": [
      "Input the number of rows you want 8\n"
     ]
    },
    {
     "name": "stdout",
     "output_type": "stream",
     "text": [
      "1\n",
      "22\n",
      "333\n",
      "4444\n",
      "55555\n",
      "666666\n",
      "7777777\n",
      "88888888\n"
     ]
    }
   ],
   "source": [
    "# Pattern 4\n",
    "\n",
    "n = int(input(\"Input the number of rows you want\"))\n",
    "\n",
    "for i in range(1, n+1):\n",
    "    for j in range(1, i+1):\n",
    "        print(i, end=\"\")\n",
    "    print()"
   ]
  },
  {
   "cell_type": "code",
   "execution_count": 5,
   "id": "ec91c0fb-b006-448f-b02f-4626c61124b0",
   "metadata": {},
   "outputs": [
    {
     "name": "stdin",
     "output_type": "stream",
     "text": [
      "Input the number of rows you want 5\n"
     ]
    },
    {
     "name": "stdout",
     "output_type": "stream",
     "text": [
      "*****\n",
      "****\n",
      "***\n",
      "**\n",
      "*\n"
     ]
    }
   ],
   "source": [
    "# Pattern 5\n",
    "\n",
    "n = int(input(\"Input the number of rows you want\"))\n",
    "\n",
    "for i in range(1, n+1):\n",
    "    for j in range(1, n-i+2):\n",
    "        print(\"*\", end=\"\")\n",
    "    print()"
   ]
  },
  {
   "cell_type": "code",
   "execution_count": 6,
   "id": "1f2d5fd0-bae9-432e-b7fd-908d66909587",
   "metadata": {},
   "outputs": [
    {
     "name": "stdin",
     "output_type": "stream",
     "text": [
      "Input the number of rows you want 3\n"
     ]
    },
    {
     "name": "stdout",
     "output_type": "stream",
     "text": [
      "123\n",
      "12\n",
      "1\n"
     ]
    }
   ],
   "source": [
    "# Pattern 6\n",
    "\n",
    "n = int(input(\"Input the number of rows you want\"))\n",
    "\n",
    "for i in range(1, n+1):\n",
    "    for j in range(1, n-i+2):\n",
    "        print(j, end=\"\")\n",
    "    print()"
   ]
  },
  {
   "cell_type": "code",
   "execution_count": 23,
   "id": "0c695e85-50e0-4ccc-abf1-4b9ae253592b",
   "metadata": {},
   "outputs": [
    {
     "name": "stdin",
     "output_type": "stream",
     "text": [
      "Input the number of rows you want 4\n"
     ]
    },
    {
     "name": "stdout",
     "output_type": "stream",
     "text": [
      "   x   \n",
      "  xxx  \n",
      " xxxxx \n",
      "xxxxxxx\n"
     ]
    }
   ],
   "source": [
    "# Pattern 7\n",
    "\n",
    "n = int(input(\"Input the number of rows you want\"))\n",
    "\n",
    "for i in range(0,n):\n",
    "    # print the space\n",
    "    for j in range(0, n-i-1):\n",
    "        print(\" \", end=\"\")\n",
    "    # print the star\n",
    "    for j in range(0, 2*i+1):\n",
    "        print(\"x\", end=\"\")\n",
    "    # print the space again\n",
    "    for j in range(0, n-i-1):\n",
    "        print(\" \", end=\"\")\n",
    "    print()"
   ]
  },
  {
   "cell_type": "code",
   "execution_count": 24,
   "id": "369445b0-3488-479b-bc84-2d7d8991c6c7",
   "metadata": {},
   "outputs": [
    {
     "name": "stdin",
     "output_type": "stream",
     "text": [
      "Input the number of rows you want 4\n"
     ]
    },
    {
     "name": "stdout",
     "output_type": "stream",
     "text": [
      "xxxxxxx\n",
      " xxxxx \n",
      "  xxx  \n",
      "   x   \n"
     ]
    }
   ],
   "source": [
    "# Pattern 8, opposite\n",
    "\n",
    "n = int(input(\"Input the number of rows you want\"))\n",
    "\n",
    "for i in range(0,n):\n",
    "    # print the space\n",
    "    for j in range(0, i):\n",
    "        print(\" \", end=\"\")\n",
    "    # print the star\n",
    "    for j in range(0, 2*n-(2*i+1)):\n",
    "        print(\"x\", end=\"\")\n",
    "    # print the space again\n",
    "    for j in range(0, i):\n",
    "        print(\" \", end=\"\")\n",
    "    print()"
   ]
  },
  {
   "cell_type": "code",
   "execution_count": 3,
   "id": "8ba93a4b-3eff-46a3-8226-ebcb18b0dabe",
   "metadata": {},
   "outputs": [
    {
     "name": "stdin",
     "output_type": "stream",
     "text": [
      "Enter the middle row number 5\n"
     ]
    },
    {
     "name": "stdout",
     "output_type": "stream",
     "text": [
      "    x    \n",
      "   xxx   \n",
      "  xxxxx  \n",
      " xxxxxxx \n",
      "xxxxxxxxx\n",
      "xxxxxxxxx\n",
      " xxxxxxx \n",
      "  xxxxx  \n",
      "   xxx   \n",
      "    x    \n"
     ]
    }
   ],
   "source": [
    "# Pattern 9 - print a diamond\n",
    "\n",
    "n = int(input(\"Enter the middle row number\"))\n",
    "\n",
    "for i in range(0,n):\n",
    "    # print the space\n",
    "    for j in range(0, n-i-1):\n",
    "        print(\" \", end=\"\")\n",
    "    # print the star\n",
    "    for j in range(0, 2*i+1):\n",
    "        print(\"x\", end=\"\")\n",
    "    # print the space again\n",
    "    for j in range(0, n-i-1):\n",
    "        print(\" \", end=\"\")\n",
    "    print()\n",
    "for i in range(0,n):\n",
    "    # print the space\n",
    "    for j in range(0, i):\n",
    "        print(\" \", end=\"\")\n",
    "    # print the star\n",
    "    for j in range(0, 2*n-(2*i+1)):\n",
    "        print(\"x\", end=\"\")\n",
    "    # print the space again\n",
    "    for j in range(0, i):\n",
    "        print(\" \", end=\"\")\n",
    "    print()    "
   ]
  },
  {
   "cell_type": "code",
   "execution_count": 11,
   "id": "12c30d78-d8c2-4774-b73f-102813f1ed35",
   "metadata": {},
   "outputs": [
    {
     "name": "stdin",
     "output_type": "stream",
     "text": [
      "Enter the middle row number 7\n"
     ]
    },
    {
     "name": "stdout",
     "output_type": "stream",
     "text": [
      "*\n",
      "**\n",
      "***\n",
      "****\n",
      "*****\n",
      "******\n",
      "*******\n",
      "******\n",
      "*****\n",
      "****\n",
      "***\n",
      "**\n",
      "*\n"
     ]
    }
   ],
   "source": [
    "# Pattern 10 - right skewed diamond\n",
    "\n",
    "n = int(input(\"Enter the middle row number\"))\n",
    "\n",
    "for i in range(1, 2*n):\n",
    "    stars = i\n",
    "    if (i>n):\n",
    "        stars = 2*n - i\n",
    "    for j in range(1, stars+1):\n",
    "        print(\"*\", end=\"\")\n",
    "    print()\n",
    "\n",
    "# for i in range(0, n):\n",
    "#     for j in range(0, n-i):\n",
    "#         print(\"*\", end=\"\")\n",
    "#     print()"
   ]
  },
  {
   "cell_type": "code",
   "execution_count": 66,
   "id": "e0ba523d-45a1-474e-bdc1-dd5772095fce",
   "metadata": {},
   "outputs": [
    {
     "name": "stdin",
     "output_type": "stream",
     "text": [
      "Enter the row number 4\n"
     ]
    },
    {
     "name": "stdout",
     "output_type": "stream",
     "text": [
      "\n",
      "1\n",
      "01\n",
      "101\n",
      "0101\n"
     ]
    }
   ],
   "source": [
    "# Pattern 11 - 1, 01, 101, 0101\n",
    "\n",
    "n = int(input(\"Enter the row number\"))\n",
    "start = 1\n",
    "\n",
    "for i in range(0, n+1):\n",
    "    if (i%2==0):\n",
    "        start = 0\n",
    "    else:\n",
    "        start = 1\n",
    "\n",
    "    for j in range(1, i+1):\n",
    "        print(start, end=\"\")\n",
    "        start = 1- start\n",
    "    print()"
   ]
  },
  {
   "cell_type": "code",
   "execution_count": 12,
   "id": "9a09e3f5-24d7-4be5-be9a-58943e0ec6b7",
   "metadata": {},
   "outputs": [
    {
     "name": "stdin",
     "output_type": "stream",
     "text": [
      "Enter the row number 7\n"
     ]
    },
    {
     "name": "stdout",
     "output_type": "stream",
     "text": [
      "1\n",
      "2\n",
      "3\n",
      "4\n",
      "5\n",
      "6\n",
      "7\n"
     ]
    }
   ],
   "source": [
    "# understanding the logic again\n",
    "\n",
    "n = int(input(\"Enter the row number\"))\n",
    "\n",
    "for i in range(1, n+1):\n",
    "    # print(i, end=\"\")\n",
    "    for j in range(i, i+1):\n",
    "        print(j, end=\"\")\n",
    "\n",
    "    print()"
   ]
  },
  {
   "cell_type": "code",
   "execution_count": 81,
   "id": "f877f98a-5c8f-4f54-be70-cee37c6270fc",
   "metadata": {},
   "outputs": [
    {
     "name": "stdin",
     "output_type": "stream",
     "text": [
      "Enter the row number 4\n"
     ]
    },
    {
     "name": "stdout",
     "output_type": "stream",
     "text": [
      "1      1\n",
      "12    21\n",
      "123  321\n",
      "12344321\n"
     ]
    }
   ],
   "source": [
    "# Pattern 12 - mirror numbers skewed pyramid\n",
    "\n",
    "n = int(input(\"Enter the row number\"))\n",
    "space = 2*(n-1)\n",
    "\n",
    "for i in range(1, n+1):\n",
    "    for j in range(1, i+1):\n",
    "        print(j, end=\"\")\n",
    "    for j in range(1, space+1):\n",
    "        print(\" \", end=\"\")\n",
    "    for j in range(i, 0, -1):\n",
    "        print(j, end=\"\")\n",
    "    print()\n",
    "    space = space-2"
   ]
  },
  {
   "cell_type": "code",
   "execution_count": 35,
   "id": "175c4b3b-f89d-40a4-9964-34c4364948fa",
   "metadata": {},
   "outputs": [
    {
     "name": "stdin",
     "output_type": "stream",
     "text": [
      "Enter the number of rows:  4\n"
     ]
    },
    {
     "name": "stdout",
     "output_type": "stream",
     "text": [
      "1      1\n",
      "12    21\n",
      "123  321\n",
      "12344321\n"
     ]
    }
   ],
   "source": [
    "n = int(input(\"Enter the number of rows: \"))\n",
    "\n",
    "space = 2*n-2\n",
    "\n",
    "for i in range(1, n+1):\n",
    "\n",
    "    # numbers\n",
    "    for j in range(1, i+1):\n",
    "        print(j, end=\"\")\n",
    "\n",
    "    # space\n",
    "    for j in range(1, space+1):\n",
    "        print(\" \", end=\"\")\n",
    "\n",
    "    # opposite numbers\n",
    "    for j in range(i, 0, -1):\n",
    "        print(j, end=\"\")\n",
    "        \n",
    "    print()\n",
    "    space -=2"
   ]
  },
  {
   "cell_type": "code",
   "execution_count": 37,
   "id": "4b3b0034-1bdc-4c2d-bf90-346e340bdf5a",
   "metadata": {},
   "outputs": [
    {
     "name": "stdin",
     "output_type": "stream",
     "text": [
      "Enter the number of rows:  5\n"
     ]
    },
    {
     "name": "stdout",
     "output_type": "stream",
     "text": [
      "1 \n",
      "2 3 \n",
      "4 5 6 \n",
      "7 8 9 10 \n",
      "11 12 13 14 15 \n"
     ]
    }
   ],
   "source": [
    "# pattern 13\n",
    "\n",
    "n = int(input(\"Enter the number of rows: \"))\n",
    "num=1\n",
    "\n",
    "for i in range(1, n+1):\n",
    "    for j in range(1, i+1):\n",
    "        print(num, end=\" \")\n",
    "        num=num+1\n",
    "    print()"
   ]
  },
  {
   "cell_type": "code",
   "execution_count": 39,
   "id": "68c9d92e-1de1-45a6-a9a3-b02be30081c1",
   "metadata": {},
   "outputs": [
    {
     "name": "stdin",
     "output_type": "stream",
     "text": [
      "Enter the number of rows:  6\n"
     ]
    },
    {
     "name": "stdout",
     "output_type": "stream",
     "text": [
      "A \n",
      "A B \n",
      "A B C \n",
      "A B C D \n",
      "A B C D E \n",
      "A B C D E F \n"
     ]
    }
   ],
   "source": [
    "#  pattern 14\n",
    "\n",
    "n = int(input(\"Enter the number of rows: \"))\n",
    "\n",
    "for i in range(1, n+1):\n",
    "    for j in range(0, i):\n",
    "        print(chr(65+j), end=\" \")    \n",
    "    print()\n",
    "\n",
    "# chr(65 + j):\n",
    "\n",
    "# 65 is the ASCII value for 'A'."
   ]
  },
  {
   "cell_type": "code",
   "execution_count": 15,
   "id": "15af069c-87e6-4e1a-9bf1-277911c18e04",
   "metadata": {},
   "outputs": [
    {
     "name": "stdin",
     "output_type": "stream",
     "text": [
      "Enter the number:  4\n"
     ]
    },
    {
     "name": "stdout",
     "output_type": "stream",
     "text": [
      "24\n"
     ]
    }
   ],
   "source": [
    "n = int(input(\"Enter the number: \"))\n",
    "\n",
    "for i in range(1, n):\n",
    "    n = n*i\n",
    "print(n)"
   ]
  },
  {
   "cell_type": "code",
   "execution_count": 13,
   "id": "8d00f2c4-004f-4ea9-bdf5-14c7331166b6",
   "metadata": {},
   "outputs": [
    {
     "name": "stdin",
     "output_type": "stream",
     "text": [
      "Enter the number of rows:  5\n"
     ]
    },
    {
     "name": "stdout",
     "output_type": "stream",
     "text": [
      "A B C D E \n",
      "A B C D \n",
      "A B C \n",
      "A B \n",
      "A \n"
     ]
    }
   ],
   "source": [
    "#  pattern 15\n",
    "\n",
    "n = int(input(\"Enter the number of rows: \"))\n",
    "\n",
    "for i in range(1, n+1):\n",
    "    for j in range(0, n-i+1):\n",
    "        print(chr(65+j), end=\" \")    \n",
    "    print()\n",
    "\n",
    "# chr(65 + j):\n",
    "\n",
    "# 65 is the ASCII value for 'A'."
   ]
  },
  {
   "cell_type": "code",
   "execution_count": 16,
   "id": "c0fbeb17-d34e-403f-be26-0833ca1b0df0",
   "metadata": {},
   "outputs": [
    {
     "name": "stdin",
     "output_type": "stream",
     "text": [
      "Enter the number of rows:  5\n"
     ]
    },
    {
     "name": "stdout",
     "output_type": "stream",
     "text": [
      "A \n",
      "B B \n",
      "C C C \n",
      "D D D D \n",
      "E E E E E \n",
      "F F F F F F \n"
     ]
    }
   ],
   "source": [
    "#  pattern 16\n",
    "\n",
    "n = int(input(\"Enter the number of rows: \"))\n",
    "\n",
    "for i in range(0, n+1):\n",
    "    for j in range(0, i+1):\n",
    "        print(chr(65+i), end=\" \")    \n",
    "    print()\n",
    "\n",
    "# chr(65 + j):\n",
    "\n",
    "# 65 is the ASCII value for 'A'."
   ]
  },
  {
   "cell_type": "code",
   "execution_count": 30,
   "id": "11f97da3-0280-4ede-9e89-b4064e039022",
   "metadata": {},
   "outputs": [
    {
     "name": "stdin",
     "output_type": "stream",
     "text": [
      "Enter the number of rows:  6\n"
     ]
    },
    {
     "name": "stdout",
     "output_type": "stream",
     "text": [
      "          A           \n",
      "        A B A         \n",
      "      A B C B A       \n",
      "    A B C D C B A     \n",
      "  A B C D E D C B A   \n",
      "A B C D E F E D C B A \n"
     ]
    }
   ],
   "source": [
    "# pattern 17 - alphabet pyramid\n",
    "\n",
    "n = int(input(\"Enter the number of rows: \"))\n",
    "\n",
    "for i in range(0, n):\n",
    "    #space\n",
    "    for j in range(0, n-i-1):\n",
    "        print(\" \", end=\" \")\n",
    "\n",
    "    #characters\n",
    "    ch = chr(65)\n",
    "    break_point = (2*i+1)//2\n",
    "    for j in range(0, 2*i+1):\n",
    "        print(ch, end=\" \")\n",
    "        if (j<break_point):\n",
    "            ch = chr(ord(ch) + 1)\n",
    "        else:\n",
    "            ch = chr(ord(ch) - 1)\n",
    "\n",
    "    #space\n",
    "    for j in range(0, n-i-1):\n",
    "        print(\" \", end=\" \")\n",
    "\n",
    "    print()"
   ]
  },
  {
   "cell_type": "code",
   "execution_count": null,
   "id": "3c6586b6-019b-4fd4-9720-0e0515e5f45f",
   "metadata": {},
   "outputs": [],
   "source": []
  },
  {
   "cell_type": "code",
   "execution_count": null,
   "id": "575cb62b-e2c3-43dd-b10b-68556c42d1c2",
   "metadata": {},
   "outputs": [],
   "source": []
  },
  {
   "cell_type": "code",
   "execution_count": null,
   "id": "42a1d35f-f59d-4a1a-a2c7-4875d21e0ba9",
   "metadata": {},
   "outputs": [],
   "source": []
  },
  {
   "cell_type": "code",
   "execution_count": null,
   "id": "d934dd6b-6c4a-4aea-8a61-998973777e4b",
   "metadata": {},
   "outputs": [],
   "source": []
  },
  {
   "cell_type": "code",
   "execution_count": null,
   "id": "8559fc29-d3ae-44ad-99ed-d0367b9acdd8",
   "metadata": {},
   "outputs": [],
   "source": []
  },
  {
   "cell_type": "code",
   "execution_count": null,
   "id": "0a4c53e0-99fc-4bf8-80db-e7b1efb14782",
   "metadata": {},
   "outputs": [],
   "source": []
  }
 ],
 "metadata": {
  "kernelspec": {
   "display_name": "Python 3 (ipykernel)",
   "language": "python",
   "name": "python3"
  },
  "language_info": {
   "codemirror_mode": {
    "name": "ipython",
    "version": 3
   },
   "file_extension": ".py",
   "mimetype": "text/x-python",
   "name": "python",
   "nbconvert_exporter": "python",
   "pygments_lexer": "ipython3",
   "version": "3.12.4"
  }
 },
 "nbformat": 4,
 "nbformat_minor": 5
}
